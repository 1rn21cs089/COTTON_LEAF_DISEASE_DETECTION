{
 "cells": [
  {
   "cell_type": "code",
   "execution_count": 5,
   "id": "0b1dc434",
   "metadata": {},
   "outputs": [],
   "source": [
    "import os\n",
    "import random\n",
    "import torch\n",
    "import torch.nn as nn\n",
    "import torch.optim as optim\n",
    "import torchvision\n",
    "from torchvision import transforms, datasets, models\n",
    "from torch.utils.data import DataLoader\n",
    "from PIL import Image\n",
    "import matplotlib.pyplot as plt"
   ]
  },
  {
   "cell_type": "code",
   "execution_count": 9,
   "id": "038b2a29",
   "metadata": {},
   "outputs": [
    {
     "name": "stdout",
     "output_type": "stream",
     "text": [
      "Image: 1.jpg, Predicted Class: Powdery mildew\n",
      "Image: 10.jpg, Predicted Class: Powdery mildew\n",
      "Image: 11.jpg, Predicted Class: Powdery mildew\n",
      "Image: 13.jpg, Predicted Class: Powdery mildew\n",
      "Image: 14.jpg, Predicted Class: Powdery mildew\n",
      "Image: 15.jpg, Predicted Class: Powdery mildew\n",
      "Image: 16.jpg, Predicted Class: Healthy\n",
      "Image: 17.jpg, Predicted Class: Powdery mildew\n",
      "Image: 18.jpg, Predicted Class: Powdery mildew\n",
      "Image: 19.jpg, Predicted Class: Powdery mildew\n",
      "Image: 2.jpg, Predicted Class: Powdery mildew\n",
      "Image: 20.jpg, Predicted Class: Cotton Boll Rot\n",
      "Image: 21.jpg, Predicted Class: Powdery mildew\n",
      "Image: 22.jpg, Predicted Class: Aphids\n",
      "Image: 23.jpg, Predicted Class: Powdery mildew\n",
      "Image: 24.jpg, Predicted Class: Powdery mildew\n",
      "Image: 25.jpg, Predicted Class: Powdery mildew\n",
      "Image: 26.jpg, Predicted Class: Powdery mildew\n",
      "Image: 27.jpg, Predicted Class: Powdery mildew\n",
      "Image: 28.jpg, Predicted Class: Powdery mildew\n",
      "Image: 29.jpg, Predicted Class: Powdery mildew\n",
      "Image: 3.jpg, Predicted Class: Powdery mildew\n",
      "Image: 30.jpg, Predicted Class: Powdery mildew\n",
      "Image: 31.jpg, Predicted Class: Powdery mildew\n",
      "Image: 32.jpg, Predicted Class: Powdery mildew\n",
      "Image: 33.jpg, Predicted Class: Powdery mildew\n",
      "Image: 34.jpg, Predicted Class: Aphids\n",
      "Image: 35.jpg, Predicted Class: Powdery mildew\n",
      "Image: 36.jpg, Predicted Class: Powdery mildew\n",
      "Image: 37.jpg, Predicted Class: Powdery mildew\n",
      "Image: 38.jpg, Predicted Class: Powdery mildew\n",
      "Image: 39.jpg, Predicted Class: Powdery mildew\n",
      "Image: 4.jpg, Predicted Class: Powdery mildew\n",
      "Image: 40.jpg, Predicted Class: Powdery mildew\n",
      "Image: 5.jpg, Predicted Class: Powdery mildew\n",
      "Image: 6.jpg, Predicted Class: Powdery mildew\n",
      "Image: 7.jpg, Predicted Class: Powdery mildew\n",
      "Image: 8.jpg, Predicted Class: Powdery mildew\n",
      "Image: 9.jpg, Predicted Class: Powdery mildew\n"
     ]
    }
   ],
   "source": [
    "# Define the class labels\n",
    "class_labels = [\"Powdery mildew\", \"Healthy\", \"Cotton Boll Rot\", \"Bacterial blight\", \"Aphids\"]\n",
    "\n",
    "# Initialize the ResNet-18 model\n",
    "model = models.resnet18(pretrained=False)\n",
    "model.fc = torch.nn.Linear(512, len(class_labels))  # Adjust the output layer to match your number of classes\n",
    "\n",
    "# Load the pre-trained weights\n",
    "model.load_state_dict(torch.load(\"first_tuned_model_cotton_disease.pth\"))\n",
    "model.eval()\n",
    "\n",
    "# Define transformations for input images\n",
    "transform = transforms.Compose([\n",
    "    transforms.Resize((64, 64)),\n",
    "    transforms.ToTensor(),\n",
    "])\n",
    "\n",
    "# Loop over the folder of testing dataset\n",
    "testing_folder = \"C:\\\\Users\\\\RoopaGanesh\\\\Downloads\\\\Cotton plant disease-Validation\\\\Aphids edited\"\n",
    "for image_name in os.listdir(testing_folder):\n",
    "    # Load the image\n",
    "    image_path = os.path.join(testing_folder, image_name)\n",
    "    image = Image.open(image_path).convert(\"RGB\")\n",
    "\n",
    "    # Apply transformations\n",
    "    image = transform(image)\n",
    "\n",
    "    # Add batch dimension\n",
    "    image = image.unsqueeze(0)\n",
    "\n",
    "    # Make prediction\n",
    "    with torch.no_grad():\n",
    "        output = model(image)\n",
    "\n",
    "    # Get predicted class\n",
    "    _, predicted_idx = torch.max(output, 1)\n",
    "    predicted_class = class_labels[predicted_idx.item()]\n",
    "\n",
    "    print(f\"Image: {image_name}, Predicted Class: {predicted_class}\")\n",
    "///Huge errors encountered during validation"
   ]
  },
  {
   "cell_type": "markdown",
   "id": "401dffd8",
   "metadata": {},
   "source": []
  }
 ],
 "metadata": {
  "kernelspec": {
   "display_name": "GG_1392",
   "language": "python",
   "name": "gg_1392"
  },
  "language_info": {
   "codemirror_mode": {
    "name": "ipython",
    "version": 3
   },
   "file_extension": ".py",
   "mimetype": "text/x-python",
   "name": "python",
   "nbconvert_exporter": "python",
   "pygments_lexer": "ipython3",
   "version": "3.9.18"
  }
 },
 "nbformat": 4,
 "nbformat_minor": 5
}
